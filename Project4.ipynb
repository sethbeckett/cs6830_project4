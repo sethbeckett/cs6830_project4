{
 "cells": [
  {
   "cell_type": "code",
   "execution_count": 1,
   "id": "b34d91fb",
   "metadata": {},
   "outputs": [],
   "source": [
    "import pandas as pd\n",
    "import numpy as np\n",
    "import matplotlib.pyplot as plt\n",
    "import seaborn as sns\n",
    "import sklearn.preprocessing as pre # need OneHotEncoder, StandardScaler\n",
    "from sklearn.decomposition import PCA # Use to check feature importance?\n",
    "from sklearn.model_selection import train_test_split\n",
    "from sklearn.metrics import f1_score, precision_score, recall_score, accuracy_score\n",
    "#sklearn.metrics.f1_score\n",
    "#sklearn.metrics.f1_score"
   ]
  },
  {
   "cell_type": "code",
   "execution_count": 2,
   "id": "a12a808c",
   "metadata": {},
   "outputs": [
    {
     "data": {
      "text/html": [
       "<div>\n",
       "<style scoped>\n",
       "    .dataframe tbody tr th:only-of-type {\n",
       "        vertical-align: middle;\n",
       "    }\n",
       "\n",
       "    .dataframe tbody tr th {\n",
       "        vertical-align: top;\n",
       "    }\n",
       "\n",
       "    .dataframe thead th {\n",
       "        text-align: right;\n",
       "    }\n",
       "</style>\n",
       "<table border=\"1\" class=\"dataframe\">\n",
       "  <thead>\n",
       "    <tr style=\"text-align: right;\">\n",
       "      <th></th>\n",
       "      <th>age</th>\n",
       "      <th>sex</th>\n",
       "      <th>cp</th>\n",
       "      <th>trestbps</th>\n",
       "      <th>chol</th>\n",
       "      <th>fbs</th>\n",
       "      <th>restecg</th>\n",
       "      <th>thalach</th>\n",
       "      <th>exang</th>\n",
       "      <th>oldpeak</th>\n",
       "      <th>slope</th>\n",
       "      <th>ca</th>\n",
       "      <th>thal</th>\n",
       "      <th>num</th>\n",
       "    </tr>\n",
       "  </thead>\n",
       "  <tbody>\n",
       "    <tr>\n",
       "      <th>0</th>\n",
       "      <td>63.0</td>\n",
       "      <td>1.0</td>\n",
       "      <td>1.0</td>\n",
       "      <td>145.0</td>\n",
       "      <td>233.0</td>\n",
       "      <td>1.0</td>\n",
       "      <td>2.0</td>\n",
       "      <td>150.0</td>\n",
       "      <td>0.0</td>\n",
       "      <td>2.3</td>\n",
       "      <td>3.0</td>\n",
       "      <td>0.0</td>\n",
       "      <td>6.0</td>\n",
       "      <td>0.0</td>\n",
       "    </tr>\n",
       "    <tr>\n",
       "      <th>1</th>\n",
       "      <td>67.0</td>\n",
       "      <td>1.0</td>\n",
       "      <td>4.0</td>\n",
       "      <td>160.0</td>\n",
       "      <td>286.0</td>\n",
       "      <td>0.0</td>\n",
       "      <td>2.0</td>\n",
       "      <td>108.0</td>\n",
       "      <td>1.0</td>\n",
       "      <td>1.5</td>\n",
       "      <td>2.0</td>\n",
       "      <td>3.0</td>\n",
       "      <td>3.0</td>\n",
       "      <td>2.0</td>\n",
       "    </tr>\n",
       "    <tr>\n",
       "      <th>2</th>\n",
       "      <td>67.0</td>\n",
       "      <td>1.0</td>\n",
       "      <td>4.0</td>\n",
       "      <td>120.0</td>\n",
       "      <td>229.0</td>\n",
       "      <td>0.0</td>\n",
       "      <td>2.0</td>\n",
       "      <td>129.0</td>\n",
       "      <td>1.0</td>\n",
       "      <td>2.6</td>\n",
       "      <td>2.0</td>\n",
       "      <td>2.0</td>\n",
       "      <td>7.0</td>\n",
       "      <td>1.0</td>\n",
       "    </tr>\n",
       "    <tr>\n",
       "      <th>3</th>\n",
       "      <td>37.0</td>\n",
       "      <td>1.0</td>\n",
       "      <td>3.0</td>\n",
       "      <td>130.0</td>\n",
       "      <td>250.0</td>\n",
       "      <td>0.0</td>\n",
       "      <td>0.0</td>\n",
       "      <td>187.0</td>\n",
       "      <td>0.0</td>\n",
       "      <td>3.5</td>\n",
       "      <td>3.0</td>\n",
       "      <td>0.0</td>\n",
       "      <td>3.0</td>\n",
       "      <td>0.0</td>\n",
       "    </tr>\n",
       "    <tr>\n",
       "      <th>4</th>\n",
       "      <td>41.0</td>\n",
       "      <td>0.0</td>\n",
       "      <td>2.0</td>\n",
       "      <td>130.0</td>\n",
       "      <td>204.0</td>\n",
       "      <td>0.0</td>\n",
       "      <td>2.0</td>\n",
       "      <td>172.0</td>\n",
       "      <td>0.0</td>\n",
       "      <td>1.4</td>\n",
       "      <td>1.0</td>\n",
       "      <td>0.0</td>\n",
       "      <td>3.0</td>\n",
       "      <td>0.0</td>\n",
       "    </tr>\n",
       "  </tbody>\n",
       "</table>\n",
       "</div>"
      ],
      "text/plain": [
       "    age  sex   cp  trestbps   chol  fbs  restecg  thalach  exang  oldpeak  \\\n",
       "0  63.0  1.0  1.0     145.0  233.0  1.0      2.0    150.0    0.0      2.3   \n",
       "1  67.0  1.0  4.0     160.0  286.0  0.0      2.0    108.0    1.0      1.5   \n",
       "2  67.0  1.0  4.0     120.0  229.0  0.0      2.0    129.0    1.0      2.6   \n",
       "3  37.0  1.0  3.0     130.0  250.0  0.0      0.0    187.0    0.0      3.5   \n",
       "4  41.0  0.0  2.0     130.0  204.0  0.0      2.0    172.0    0.0      1.4   \n",
       "\n",
       "   slope   ca  thal  num  \n",
       "0    3.0  0.0   6.0  0.0  \n",
       "1    2.0  3.0   3.0  2.0  \n",
       "2    2.0  2.0   7.0  1.0  \n",
       "3    3.0  0.0   3.0  0.0  \n",
       "4    1.0  0.0   3.0  0.0  "
      ]
     },
     "execution_count": 2,
     "metadata": {},
     "output_type": "execute_result"
    }
   ],
   "source": [
    "df = pd.read_csv('cleveland.csv').replace('?','0.0').astype(float, errors='ignore')\n",
    "df.head()"
   ]
  },
  {
   "cell_type": "code",
   "execution_count": 3,
   "id": "c88db875",
   "metadata": {},
   "outputs": [],
   "source": [
    "# categories: sex (1,0), cp (1,2,3,4), fbs (1,0), exang (1,0), thal (3,6,7), num (0,{1,2,3,4})"
   ]
  },
  {
   "cell_type": "code",
   "execution_count": 4,
   "id": "e4fdf91a",
   "metadata": {},
   "outputs": [],
   "source": [
    "# Change num to either 0 or 1.\n",
    "\n",
    "df['num'] = [0.0 if df['num'][i] == 0.0 else 1.0 for i in range(df.shape[0])]"
   ]
  },
  {
   "cell_type": "code",
   "execution_count": 5,
   "id": "41687ae6",
   "metadata": {},
   "outputs": [],
   "source": [
    "# Prepare to manually one-hot encode.\n",
    "\n",
    "sex0list = [1.0 if df['sex'][i]==0.0 else 0.0 for i in range(df.shape[0])]\n",
    "sex1list = [1.0 if df['sex'][i]==1.0 else 0.0 for i in range(df.shape[0])]\n",
    "\n",
    "cp1list = [1.0 if df['cp'][i]==1.0 else 0.0 for i in range(df.shape[0])]\n",
    "cp2list = [1.0 if df['cp'][i]==2.0 else 0.0 for i in range(df.shape[0])]\n",
    "cp3list = [1.0 if df['cp'][i]==3.0 else 0.0 for i in range(df.shape[0])]\n",
    "cp4list = [1.0 if df['cp'][i]==4.0 else 0.0 for i in range(df.shape[0])]\n",
    "\n",
    "fbs0list = [1.0 if df['fbs'][i]==0.0 else 0.0 for i in range(df.shape[0])]\n",
    "fbs1list = [1.0 if df['fbs'][i]==1.0 else 0.0 for i in range(df.shape[0])]\n",
    "\n",
    "exang0list = [1.0 if df['exang'][i]==0.0 else 0.0 for i in range(df.shape[0])]\n",
    "exang1list = [1.0 if df['exang'][i]==1.0 else 0.0 for i in range(df.shape[0])]\n",
    "\n",
    "thal3list = [3.0 if df['thal'][i]==3.0 else 0.0 for i in range(df.shape[0])]\n",
    "thal6list = [6.0 if df['thal'][i]==6.0 else 0.0 for i in range(df.shape[0])]\n",
    "thal7list = [7.0 if df['thal'][i]==7.0 else 0.0 for i in range(df.shape[0])]"
   ]
  },
  {
   "cell_type": "code",
   "execution_count": 6,
   "id": "0b5dd36f",
   "metadata": {},
   "outputs": [],
   "source": [
    "# 'graft' the new columns in.\n",
    "\n",
    "df['sex0'] = sex0list\n",
    "df['sex1'] = sex1list\n",
    "\n",
    "df['cp1'] = cp1list\n",
    "df['cp2'] = cp2list\n",
    "df['cp3'] = cp3list\n",
    "df['cp4'] = cp4list\n",
    "\n",
    "df['fbs0'] = fbs0list\n",
    "df['fbs1'] = fbs1list\n",
    "\n",
    "df['exang0'] = exang0list\n",
    "df['exang1'] = exang1list\n",
    "\n",
    "df['thal3'] = thal3list\n",
    "df['thal6'] = thal6list\n",
    "df['thal7'] = thal7list"
   ]
  },
  {
   "cell_type": "code",
   "execution_count": 7,
   "id": "4e08bd7f",
   "metadata": {},
   "outputs": [],
   "source": [
    "# Now drop the original columns. This concludes our manual one-hot encoding.\n",
    "df = df.drop(columns=['sex', 'cp', 'fbs', 'exang', 'thal'])\n",
    "Xdf = df.drop(columns=['num'])\n",
    "Ydf = df['num']\n",
    "X = Xdf.to_numpy()\n",
    "y = Ydf.to_numpy()"
   ]
  },
  {
   "cell_type": "code",
   "execution_count": 8,
   "id": "c2c6acd9",
   "metadata": {},
   "outputs": [],
   "source": [
    "# Prepare to standardize the data.\n",
    "myscaler = pre.StandardScaler(copy=False)"
   ]
  },
  {
   "cell_type": "code",
   "execution_count": 9,
   "id": "42b0e21e",
   "metadata": {},
   "outputs": [],
   "source": [
    "# scale the data\n",
    "myscaler.fit_transform(X)\n",
    "\n",
    "# Split the data\n",
    "X_train, X_test, y_train, y_test = train_test_split(X, y, test_size=0.25, random_state=42)"
   ]
  },
  {
   "cell_type": "code",
   "execution_count": 10,
   "id": "25b1382b",
   "metadata": {},
   "outputs": [],
   "source": [
    "# What are the more important features?\n",
    "pca1 = PCA(n_components=X_train.shape[1])"
   ]
  },
  {
   "cell_type": "code",
   "execution_count": 11,
   "id": "8b92b710",
   "metadata": {},
   "outputs": [
    {
     "data": {
      "text/plain": [
       "PCA(n_components=21)"
      ]
     },
     "execution_count": 11,
     "metadata": {},
     "output_type": "execute_result"
    }
   ],
   "source": [
    "pca1.fit(X_train)"
   ]
  },
  {
   "cell_type": "code",
   "execution_count": 12,
   "id": "e9bab916",
   "metadata": {},
   "outputs": [
    {
     "data": {
      "text/plain": [
       "array([3.19912917e+01, 2.29432064e+01, 2.23251783e+01, 1.88295744e+01,\n",
       "       1.77111167e+01, 1.71706598e+01, 1.62934586e+01, 1.55605655e+01,\n",
       "       1.45884470e+01, 1.42813839e+01, 1.38279545e+01, 1.30689360e+01,\n",
       "       1.23990294e+01, 1.15752502e+01, 9.43681023e+00, 8.88149597e+00,\n",
       "       1.87709399e+00, 5.58870594e-15, 4.18907460e-15, 3.29201989e-15,\n",
       "       2.49163019e-15])"
      ]
     },
     "execution_count": 12,
     "metadata": {},
     "output_type": "execute_result"
    }
   ],
   "source": [
    "pca1.singular_values_"
   ]
  },
  {
   "cell_type": "code",
   "execution_count": 13,
   "id": "89de955d",
   "metadata": {},
   "outputs": [],
   "source": [
    "# Try running the analysis after projecting onto all but the last 5 components.\n",
    "pca2 = PCA(n_components=16)"
   ]
  },
  {
   "cell_type": "code",
   "execution_count": 14,
   "id": "1cd583b0",
   "metadata": {},
   "outputs": [
    {
     "name": "stdout",
     "output_type": "stream",
     "text": [
      "done transforming.\n"
     ]
    }
   ],
   "source": [
    "pca2.fit(X_train) # fit according to the training data\n",
    "pca2.transform(X_train) # transform the training data\n",
    "pca2.transform(X_test) # transform the test data for later use.\n",
    "\n",
    "print(\"done transforming.\")"
   ]
  },
  {
   "cell_type": "code",
   "execution_count": 15,
   "id": "8fc60b77",
   "metadata": {},
   "outputs": [],
   "source": [
    "# We can't use the KNeighborsClassifier from sklearn in the final analysis, but let's use it for now\n",
    "# Just so we can see if we can get good results.\n",
    "\n",
    "from sklearn.neighbors import KNeighborsClassifier"
   ]
  },
  {
   "cell_type": "code",
   "execution_count": 16,
   "id": "34c18243",
   "metadata": {},
   "outputs": [],
   "source": [
    "knn = KNeighborsClassifier(n_neighbors=5)"
   ]
  },
  {
   "cell_type": "code",
   "execution_count": 17,
   "id": "43257e89",
   "metadata": {},
   "outputs": [
    {
     "data": {
      "text/plain": [
       "KNeighborsClassifier()"
      ]
     },
     "execution_count": 17,
     "metadata": {},
     "output_type": "execute_result"
    }
   ],
   "source": [
    "knn.fit(X_train, y_train)"
   ]
  },
  {
   "cell_type": "code",
   "execution_count": 18,
   "id": "e7e84146",
   "metadata": {},
   "outputs": [],
   "source": [
    "preds = knn.predict(X_test)"
   ]
  },
  {
   "cell_type": "code",
   "execution_count": 19,
   "id": "416e209e",
   "metadata": {},
   "outputs": [
    {
     "name": "stdout",
     "output_type": "stream",
     "text": [
      "F1 score: 0.7945205479452055\n",
      "Recall score: 0.8055555555555556\n",
      "Precision score: 0.7837837837837838\n",
      "Accuracy: 0.8026315789473685\n"
     ]
    }
   ],
   "source": [
    "PrecisionScore = precision_score(preds,y_test)\n",
    "RecallScore = recall_score(preds,y_test)\n",
    "F1Score = f1_score(preds,y_test)\n",
    "AccuracyScore = accuracy_score(preds,y_test)\n",
    "\n",
    "print(\"F1 score: \" + str(F1Score))\n",
    "print(\"Recall score: \" + str(RecallScore))\n",
    "print(\"Precision score: \" + str(PrecisionScore))\n",
    "print(\"Accuracy: \" + str(AccuracyScore))"
   ]
  },
  {
   "cell_type": "code",
   "execution_count": null,
   "id": "6486ba63",
   "metadata": {},
   "outputs": [],
   "source": []
  }
 ],
 "metadata": {
  "kernelspec": {
   "display_name": "Python 3",
   "language": "python",
   "name": "python3"
  },
  "language_info": {
   "codemirror_mode": {
    "name": "ipython",
    "version": 3
   },
   "file_extension": ".py",
   "mimetype": "text/x-python",
   "name": "python",
   "nbconvert_exporter": "python",
   "pygments_lexer": "ipython3",
   "version": "3.8.8"
  }
 },
 "nbformat": 4,
 "nbformat_minor": 5
}
